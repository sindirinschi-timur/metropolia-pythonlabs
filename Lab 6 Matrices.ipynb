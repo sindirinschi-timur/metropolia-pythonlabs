{
 "cells": [
  {
   "cell_type": "code",
   "execution_count": 1,
   "id": "0a59bcfb-789a-4d9a-b379-90c773b139a6",
   "metadata": {},
   "outputs": [],
   "source": [
    "name = \"Timur Sindirinschi\"\n",
    "student_number = 2414326 # Write your student number here\n",
    "date_returned = \"23/02/2025\""
   ]
  },
  {
   "cell_type": "markdown",
   "id": "ff5b24c5-80d3-4185-a718-86fc3f7e48bd",
   "metadata": {},
   "source": [
    "# Lab 6. Matrices\n",
    "Hardware 1 - Mathematics Python Labs<br>\n",
    "Information and Communication Technology<br>\n",
    "Metropolia University of Applied Sciences"
   ]
  },
  {
   "cell_type": "markdown",
   "id": "0f87796b-9bef-4bdb-9843-87acda4b4b78",
   "metadata": {},
   "source": [
    "## Setup\n",
    "\n",
    "Read necessary libraries and functions."
   ]
  },
  {
   "cell_type": "code",
   "execution_count": 4,
   "id": "1d5742e3-5811-49b9-8c95-ebd65a94cba5",
   "metadata": {},
   "outputs": [],
   "source": [
    "import numpy as np\n",
    "import matplotlib.pyplot as plt"
   ]
  },
  {
   "cell_type": "markdown",
   "id": "f324626d-e1dd-438f-be4a-c237cae4ca9d",
   "metadata": {
    "tags": []
   },
   "source": [
    "---\n",
    "## Problem 1"
   ]
  },
  {
   "cell_type": "code",
   "execution_count": 6,
   "id": "3c5f3e5b",
   "metadata": {},
   "outputs": [
    {
     "name": "stdout",
     "output_type": "stream",
     "text": [
      "A = \n",
      " [[-5  8  6]\n",
      " [ 8 -8 -4]\n",
      " [-8 -5  0]]\n",
      "B = \n",
      " [[ 0.07462687  0.1119403  -0.05970149]\n",
      " [-0.11940299 -0.17910448 -0.10447761]\n",
      " [ 0.3880597   0.33208955  0.08955224]]\n"
     ]
    }
   ],
   "source": [
    "# Initialize random number generator\n",
    "rng = np.random.default_rng(seed=student_number)\n",
    "\n",
    "# Generate two random matrices\n",
    "A = rng.integers(low=-10, high=10, size=(3, 3))\n",
    "B = np.linalg.inv(A)\n",
    "\n",
    "# Print them\n",
    "print('A = \\n', A)\n",
    "print('B = \\n', B)"
   ]
  },
  {
   "cell_type": "markdown",
   "id": "60de03c7-30f4-43cb-86e5-ff3c59c8dbd3",
   "metadata": {},
   "source": [
    "Calculate the matrix operations $C = AB$ and $D = BA$. What do you observe?"
   ]
  },
  {
   "cell_type": "code",
   "execution_count": 8,
   "id": "b0e6f6dd-7274-46ef-adb3-7f620157d33e",
   "metadata": {},
   "outputs": [
    {
     "name": "stdout",
     "output_type": "stream",
     "text": [
      "[[1.00000000e+00 1.11022302e-16 5.55111512e-17]\n",
      " [0.00000000e+00 1.00000000e+00 0.00000000e+00]\n",
      " [6.93889390e-17 8.32667268e-17 1.00000000e+00]]\n"
     ]
    }
   ],
   "source": [
    "# My code to solve C = AB\n",
    "C_AB = np.dot(A,B)\n",
    "print(f\"{C_AB}\")"
   ]
  },
  {
   "cell_type": "code",
   "execution_count": 9,
   "id": "d97b3b59-db8f-42c9-998b-8cd6e76182b3",
   "metadata": {},
   "outputs": [
    {
     "name": "stdout",
     "output_type": "stream",
     "text": [
      "[[ 1.00000000e+00 -5.55111512e-17  0.00000000e+00]\n",
      " [-1.11022302e-16  1.00000000e+00  0.00000000e+00]\n",
      " [ 2.22044605e-16 -8.32667268e-17  1.00000000e+00]]\n"
     ]
    }
   ],
   "source": [
    "# My code to solve C = BA\n",
    "C_BA = np.dot(B,A)\n",
    "print(f\"{C_BA}\")"
   ]
  },
  {
   "cell_type": "code",
   "execution_count": 10,
   "id": "68f20976-d9d1-4887-b6f7-4d006c82ed83",
   "metadata": {},
   "outputs": [
    {
     "name": "stdout",
     "output_type": "stream",
     "text": [
      "AB =/= BA, thus Matrix multiplication is not commutative in this case.\n"
     ]
    }
   ],
   "source": [
    "# My observation about the results\n",
    "print(\"AB =/= BA, thus Matrix multiplication is not commutative in this case.\")"
   ]
  },
  {
   "cell_type": "markdown",
   "id": "ec70ac96-6bef-480a-a1a7-12bfb797cf78",
   "metadata": {},
   "source": [
    "---\n",
    "## Problem 2"
   ]
  },
  {
   "cell_type": "code",
   "execution_count": 12,
   "id": "9a78a4e5",
   "metadata": {},
   "outputs": [
    {
     "name": "stdout",
     "output_type": "stream",
     "text": [
      "A = \n",
      " [[-5  8]\n",
      " [ 6  8]]\n",
      "b = \n",
      " [[-8]\n",
      " [-4]]\n"
     ]
    }
   ],
   "source": [
    "# Initialize random number generator\n",
    "rng = np.random.default_rng(seed=student_number)\n",
    "\n",
    "# Generate two random matrices\n",
    "A = rng.integers(low=-10, high=10, size=(2, 2))\n",
    "b = rng.integers(low=-10, high=10, size=(2, 1))\n",
    "\n",
    "# Print them\n",
    "print('A = \\n', A)\n",
    "print('b = \\n', b)"
   ]
  },
  {
   "cell_type": "markdown",
   "id": "e3bf741b-e14c-4c4b-b881-d62ebbc16879",
   "metadata": {},
   "source": [
    "Write your own code that solves these equations: (**manually yourself, not using any linear algebra functions from numpy**) \n",
    "\n",
    "\\begin{align*} \n",
    "a_{11} x + a_{12}y &=  b_1 \\\\ \n",
    "a_{21} x + a_{22} y &= b_2\n",
    "\\end{align*}\n",
    "\n",
    "\n",
    "Then, check your answer using `numpy.linalg.solve()`."
   ]
  },
  {
   "cell_type": "code",
   "execution_count": 14,
   "id": "5775df1e-b457-4ce4-a000-c89266534ee5",
   "metadata": {},
   "outputs": [
    {
     "name": "stdout",
     "output_type": "stream",
     "text": [
      "x1=0.36363636363636365, x2=-0.7727272727272727\n"
     ]
    }
   ],
   "source": [
    "# My code to solve the linear equations for x and y\n",
    "a11, a12, a21, a22 = A[0][0], A[0][1], A[1][0], A[1][1]\n",
    "b1, b2 = b[0][0], b[1][0]\n",
    "\n",
    "det_A = a11 * a22 - a12 * a21\n",
    "if det_A != 0:\n",
    "    x1 = (b1 * a22 - b2 * a12) / det_A\n",
    "    x2 = (a11 * b2 - a21 * b1) / det_A\n",
    "    print(f\"x1={x1}, x2={x2}\")\n",
    "else:\n",
    "    print(\"det_A = 0\")"
   ]
  },
  {
   "cell_type": "code",
   "execution_count": 15,
   "id": "be4f36f9-9a09-4798-a548-5f53303de4e8",
   "metadata": {},
   "outputs": [
    {
     "name": "stdout",
     "output_type": "stream",
     "text": [
      "[[ 0.36363636]\n",
      " [-0.77272727]]\n"
     ]
    }
   ],
   "source": [
    "# Check with numpy.linalg.solve\n",
    "check = np.linalg.solve(A, b)\n",
    "print(f\"{check}\")"
   ]
  },
  {
   "cell_type": "markdown",
   "id": "32c9895e-3bd2-4950-a6b8-7b97c3b6a14b",
   "metadata": {},
   "source": [
    "---\n",
    "## Problem 3\n",
    "Solve the following equations using numpy linear algebra operations\n",
    "\n",
    "$$ Ax = b $$"
   ]
  },
  {
   "cell_type": "code",
   "execution_count": 17,
   "id": "ff41220d-5da6-46bf-b963-69386158f120",
   "metadata": {},
   "outputs": [
    {
     "name": "stdout",
     "output_type": "stream",
     "text": [
      "A = \n",
      " [[-46  84  63  89 -75]\n",
      " [-33 -71 -41   5 -80]\n",
      " [ 24 -77  -5  94 -92]\n",
      " [-89 -45 -17  19 -23]\n",
      " [-90  27  96  92  40]]\n",
      "b = \n",
      " [[ 5]\n",
      " [20]\n",
      " [14]\n",
      " [-6]\n",
      " [30]]\n"
     ]
    }
   ],
   "source": [
    "# Initialize random number generator\n",
    "rng = np.random.default_rng(seed=student_number)\n",
    "\n",
    "# Generate two random matrices\n",
    "A = rng.integers(low=-100, high=100, size=(5, 5))\n",
    "b = rng.integers(low=-100, high=100, size=(5, 1))\n",
    "\n",
    "# Print them\n",
    "print('A = \\n', A)\n",
    "print('b = \\n', b)"
   ]
  },
  {
   "cell_type": "code",
   "execution_count": 18,
   "id": "0a05070a",
   "metadata": {},
   "outputs": [
    {
     "name": "stdout",
     "output_type": "stream",
     "text": [
      "[[ 0.05755423]\n",
      " [-0.69779002]\n",
      " [ 1.65254049]\n",
      " [-0.89490473]\n",
      " [-0.55731102]]\n"
     ]
    }
   ],
   "source": [
    "# My solution for problem 3\n",
    "x = np.linalg.solve(A, b)\n",
    "print(f\"{x}\")"
   ]
  },
  {
   "cell_type": "markdown",
   "id": "80f0ffcb-f7e7-4d37-b778-769658e88fa9",
   "metadata": {},
   "source": [
    "---\n",
    "## Problem 4\n",
    "If $a_n = n$, find **the determinant** of the matrix\n",
    "$A = \\left( \\begin{matrix} \n",
    "a_1 & a_2 & a_3 & a_4 & a_5 \\\\\n",
    "a_5 & a_1 & a_2 & a_3 & a_4 \\\\\n",
    "a_4 & a_5 & a_1 & a_2 & a_3 \\\\\n",
    "a_3 & a_4 & a_5 & a_1 & a_2 \\\\\n",
    "a_2 & a_3 & a_4 & a_5 & a_1 \\\\\n",
    "\\end{matrix} \\right)$. Give the final answer in integers."
   ]
  },
  {
   "cell_type": "code",
   "execution_count": 20,
   "id": "0262bf05-6637-4f94-a5d0-52f15f018333",
   "metadata": {},
   "outputs": [
    {
     "name": "stdout",
     "output_type": "stream",
     "text": [
      "1875.0\n"
     ]
    }
   ],
   "source": [
    "# Solution for problem 4\n",
    "A = np.array([\n",
    "    [1,2,3,4,5],\n",
    "    [5,1,2,3,4],\n",
    "    [4,5,1,2,3],\n",
    "    [3,4,5,1,2],\n",
    "    [2,3,4,5,1]\n",
    "])\n",
    "det_A = np.linalg.det(A)\n",
    "print(f\"{det_A}\")"
   ]
  },
  {
   "cell_type": "markdown",
   "id": "ceb97373-1ee9-44a8-b9a3-c75327e4ee27",
   "metadata": {},
   "source": [
    "---\n",
    "## Problem 5\n",
    "If $ A(a, x) = \\left( \\begin{matrix}\n",
    "a + x & a - x & a - x \\\\\n",
    "a - x & a + x & a - x \\\\\n",
    "a - x & a - x & a + x\n",
    "\\end{matrix} \\right)$ and $a = 3.0$, find $x > 0$, so that $det(A(a, x)) = 0$. \n",
    "\n",
    "How are $a$ and $x$ related? When you have found the relationship, try another value for $a$.\n",
    "\n",
    "Tip: Make a code that \n",
    "- uses linearly spaced values for $x \\in [0, 10]$, for example. Use `numpy.linspace`.\n",
    "- calculates the $f(x) = det(A(a, x))$ for all values of $x$ and then \n",
    "- makes a graphical plot of $f(x)$ versus $x$. \n",
    "- Finally, from the graph, find when $f(x) = 0$."
   ]
  },
  {
   "cell_type": "code",
   "execution_count": 22,
   "id": "19dedf68-5047-4df2-8f8f-e38ab5aa2e91",
   "metadata": {},
   "outputs": [
    {
     "data": {
      "image/png": "[encoded data removed]",
      "text/plain": [
       "<Figure size 640x480 with 1 Axes>"
      ]
     },
     "metadata": {},
     "output_type": "display_data"
    }
   ],
   "source": [
    "# Solution for problem 5\n",
    "import numpy as np\n",
    "import matplotlib.pyplot as plt\n",
    "def det(a, x):\n",
    "    A = np.array([[a + x, a - x, a - x],\n",
    "                  [a - x, a + x, a - x],\n",
    "                  [a - x, a - x, a + x]\n",
    "                 ])\n",
    "    return np.linalg.det(A)\n",
    "\n",
    "a = 3\n",
    "x_values = np.linspace(0, 10, 500)\n",
    "f_values = np.array([det(a, x) for x in x_values])\n",
    "plt.plot(x_values, f_values, label=r'$f(x) = \\det(A(a, x))$')\n",
    "plt.axhline(0, color='black', linestyle='--', linewidth=1)\n",
    "plt.xlabel(r'$x$')\n",
    "plt.ylabel(r'$f(x)$')\n",
    "plt.title(r'Determinant of $A(a, x)$ vs. $x$')\n",
    "plt.legend()\n",
    "plt.grid(True)\n",
    "plt.show()\n"
   ]
  },
  {
   "cell_type": "code",
   "execution_count": 23,
   "id": "256ae2a3-f1d4-4076-a745-fb5a6f17e00e",
   "metadata": {},
   "outputs": [],
   "source": [
    "# My studies on the relationship between a and x\n",
    "#If a doubles, x doubles as well. Thus, x is proportional to a."
   ]
  }
 ],
 "metadata": {
  "kernelspec": {
   "display_name": "Python [conda env:base] *",
   "language": "python",
   "name": "conda-base-py"
  },
  "language_info": {
   "codemirror_mode": {
    "name": "ipython",
    "version": 3
   },
   "file_extension": ".py",
   "mimetype": "text/x-python",
   "name": "python",
   "nbconvert_exporter": "python",
   "pygments_lexer": "ipython3",
   "version": "3.12.7"
  }
 },
 "nbformat": 4,
 "nbformat_minor": 5
}
